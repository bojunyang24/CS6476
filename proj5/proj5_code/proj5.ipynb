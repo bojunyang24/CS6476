{
 "cells": [
  {
   "cell_type": "markdown",
   "metadata": {
    "id": "fiK4QNWKDvWJ"
   },
   "source": [
    "# [Scene Recognition with Deep Learning](https://www.cc.gatech.edu/~hays/compvision/proj5/)\n",
    "For this project we are going to focus on scene classification for 15 scene types with a state-of-the-art approach: deep learning. The task is also known as image classification. \n",
    "\n",
    "Basic learning objectives of this project:\n",
    "1. Construct the fundamental pipeline for performing deep learning using PyTorch;\n",
    "2. Understand the concepts behind different layers, optimizers, and learning schedules;\n",
    "3. Experiment with different models and observe the performance.\n",
    "\n",
    "The starter code is mostly initialized to 'placeholder' just so that the starter\n",
    "code does not crash when run unmodified and you can get a preview of how\n",
    "results are presented."
   ]
  },
  {
   "cell_type": "code",
   "execution_count": 69,
   "metadata": {},
   "outputs": [],
   "source": [
    "# flag to modify everything to run better on Colab; change it to true if you want to run on colab\n",
    "use_colab = False "
   ]
  },
  {
   "cell_type": "markdown",
   "metadata": {
    "id": "Uto3xotovm5_"
   },
   "source": [
    "## Part 0: Setup for Colab\n",
    "You can skip this part if you are not running your notebook on Colab."
   ]
  },
  {
   "cell_type": "markdown",
   "metadata": {
    "id": "dMShUvcNvukQ"
   },
   "source": [
    "### Download Data\n",
    "\n",
    "Download the data for training the network. It's exactly the same as that's been provided for you, but we'll fetch this from the cloud to keep uploads small"
   ]
  },
  {
   "cell_type": "code",
   "execution_count": 70,
   "metadata": {
    "id": "tG_t11Chv9pq"
   },
   "outputs": [],
   "source": [
    "# uncomment for running on colab\n",
    "# !wget \"https://cc.gatech.edu/~hays/compvision/proj5/data.zip\" -O data.zip && unzip -qq data.zip\n",
    "# !rm ./data.zip"
   ]
  },
  {
   "cell_type": "markdown",
   "metadata": {
    "id": "NQ9Qm5hnxKNn"
   },
   "source": [
    "### Upload code and unit tests\n",
    "\n",
    "Once you have finished your code, run `python ./zip_for_colab.py` and all the required files and tests will be written to `cv_proj5.zip`.\n",
    "\n",
    "Click the folder icon on the left of the colab UI, and click on the upload button right below the \"Files\" heading. You should have done a similar process for Project 4.\n",
    "\n",
    "Run the cell below once your upload completes to extract your uploaded files."
   ]
  },
  {
   "cell_type": "code",
   "execution_count": 71,
   "metadata": {
    "id": "ZpoinJA1yCQy"
   },
   "outputs": [],
   "source": [
    "# uncomment for running on colab\n",
    "# !unzip -qq cv_proj5.zip -d ./"
   ]
  },
  {
   "cell_type": "markdown",
   "metadata": {
    "id": "a6O_juWwyI3X"
   },
   "source": [
    "### Preparation\n",
    "\n",
    "We'll import the required functions and set up GPU computation.\n",
    "\n",
    "Click on Runtime $\\rightarrow$ Change Runtime Type, and select \"GPU\" under hardware accelerator."
   ]
  },
  {
   "cell_type": "code",
   "execution_count": 77,
   "metadata": {
    "id": "g1dqr6qSBpE2"
   },
   "outputs": [
    {
     "name": "stdout",
     "output_type": "stream",
     "text": [
      "The autoreload extension is already loaded. To reload it, use:\n",
      "  %reload_ext autoreload\n"
     ]
    }
   ],
   "source": [
    "import os\n",
    "\n",
    "import torch\n",
    "\n",
    "from proj5_code.runner import Trainer\n",
    "from proj5_code.optimizer import get_optimizer\n",
    "from proj5_code.simple_net import SimpleNet\n",
    "from proj5_code.simple_net_final import SimpleNetFinal\n",
    "from proj5_code.my_resnet import MyResNet18\n",
    "from proj5_code.data_transforms import (get_fundamental_transforms,\n",
    "                                        get_fundamental_normalization_transforms,\n",
    "                                        get_fundamental_augmentation_transforms,\n",
    "                                        get_all_transforms)\n",
    "from proj5_code.stats_helper import compute_mean_and_std\n",
    "from proj5_code.confusion_matrix import (generate_confusion_data, generate_confusion_matrix,\n",
    "                                         plot_confusion_matrix, get_pred_images_for_target,\n",
    "                                         generate_and_plot_confusion_matrix)\n",
    "from proj5_code.dl_utils import save_trained_model_weights\n",
    "\n",
    "%load_ext autoreload\n",
    "%autoreload 2"
   ]
  },
  {
   "cell_type": "code",
   "execution_count": 78,
   "metadata": {
    "id": "JKX1cUvTvgjL"
   },
   "outputs": [],
   "source": [
    "from proj5_unit_tests.utils import verify\n",
    "from proj5_unit_tests.test_stats_helper import test_mean_and_variance\n",
    "from proj5_unit_tests.test_image_loader import (test_dataset_length, test_unique_vals,\n",
    "                                                test_class_values, test_load_img_from_path)\n",
    "from proj5_unit_tests.test_data_transforms import (test_fundamental_transforms, \n",
    "                                                   test_data_augmentation_transforms,\n",
    "                                                   test_data_augmentation_with_normalization_transforms)\n",
    "from proj5_unit_tests.test_dl_utils import test_compute_accuracy, test_compute_loss\n",
    "from proj5_unit_tests.test_simple_net import test_simple_net\n",
    "from proj5_unit_tests.test_simple_net_final import test_simple_net_final\n",
    "from proj5_unit_tests.test_my_resnet import test_my_resnet\n",
    "from proj5_unit_tests.test_confusion_matrix import (test_generate_confusion_matrix, \n",
    "                                                    test_generate_confusion_matrix_normalized)"
   ]
  },
  {
   "cell_type": "code",
   "execution_count": 79,
   "metadata": {
    "id": "GjE0jIc5BpFN"
   },
   "outputs": [],
   "source": [
    "is_cuda = True\n",
    "is_cuda = is_cuda and torch.cuda.is_available() # will turn off cuda if the machine doesnt have a GPU"
   ]
  },
  {
   "cell_type": "code",
   "execution_count": 80,
   "metadata": {},
   "outputs": [],
   "source": [
    "data_path = '../data/' if not use_colab else './data/'\n",
    "model_path = '../model_checkpoints/' if not use_colab else './model_checkpoints/'"
   ]
  },
  {
   "cell_type": "markdown",
   "metadata": {
    "id": "aGSv2QfBBpFZ"
   },
   "source": [
    "## Part 1: SimpleNet\n",
    "To train a network in PyTorch, we need 4 components:\n",
    "1. **Dataset** - an object which can load the data and labels given an index.\n",
    "2. **Model** - an object that contains the network architecture definition.\n",
    "3. **Loss function** - a function that measures how far the network output is from the ground truth label.\n",
    "4. **Optimizer** - an object that optimizes the network parameters to reduce the loss value.\n",
    "\n",
    "### Part 1.1: Datasets\n",
    "Now let's create the **Datasets** object to be used later. Remember back in Project 1, we have initialized such a class to load 5 images? Here the task is similar: we have to load each image as well as it's classification label. The key idea is to store the paths to all the images in your dataset, and then be able to provide the image file path and its ground truth class id when given the index of a data example.\n",
    "\n",
    "We will map the scene names (text) into indices 0 to 14 in the image loader. You can choose any mapping you want but once fixed, it has to be consistent throughout this notebook.\n",
    "\n",
    "**TODO 1:** complete the `image_loader.py`"
   ]
  },
  {
   "cell_type": "code",
   "execution_count": 81,
   "metadata": {
    "id": "THRvAvluXFcS"
   },
   "outputs": [
    {
     "name": "stdout",
     "output_type": "stream",
     "text": [
      "Testing your image loader (length): \u001b[32m\"Correct\"\u001b[0m\n",
      "Testing your image loader (values): \u001b[32m\"Correct\"\u001b[0m\n",
      "Testing your image loader (classes): \u001b[32m\"Correct\"\u001b[0m\n",
      "Testing your image loader (paths): \u001b[32m\"Correct\"\u001b[0m\n"
     ]
    }
   ],
   "source": [
    "inp_size = (64,64)\n",
    "print(\"Testing your image loader (length):\", verify(test_dataset_length))\n",
    "print(\"Testing your image loader (values):\", verify(test_unique_vals))\n",
    "print(\"Testing your image loader (classes):\", verify(test_class_values))\n",
    "print(\"Testing your image loader (paths):\", verify(test_load_img_from_path))"
   ]
  },
  {
   "cell_type": "markdown",
   "metadata": {
    "id": "K3TJtEB2vgjQ"
   },
   "source": [
    "### Data transforms\n",
    "**TODO 2:** complete the function `get_fundamental_transforms()` in `data_transforms.py` to compile the following fundamental transforms:\n",
    "1. Resize the input image to the desired shape;\n",
    "2. Convert it to a tensor."
   ]
  },
  {
   "cell_type": "code",
   "execution_count": 82,
   "metadata": {
    "id": "xqpCmJoxvgjQ"
   },
   "outputs": [
    {
     "name": "stdout",
     "output_type": "stream",
     "text": [
      "Testing your fundamental data transforms:  \u001b[32m\"Correct\"\u001b[0m\n"
     ]
    }
   ],
   "source": [
    "print(\"Testing your fundamental data transforms: \", verify(test_fundamental_transforms))"
   ]
  },
  {
   "cell_type": "markdown",
   "metadata": {
    "id": "KnvQDyMfvgjR"
   },
   "source": [
    "### Part 1.2: Model\n",
    "The data is ready! Now we are preparing to move to the actual core of deep learning: the architecture. To get you started in this part, simply define a **2-layer** model in the `simple_net.py`. Here by \"2 layers\" we mean **2 convolutional layers**, so you need to figure out the supporting utilities like ReLU, Max Pooling, and Fully Connected layers, and configure them with proper parameters to make the tensor flow.\n",
    "\n",
    "You may refer to Figure 2 in proj5 handout for a sample network architecture (it's the architecture TAs used in their implementation and is sufficient to get you pass Part 1).\n",
    "\n",
    "**TODO 3**: Do the following in ```simple_net.py```:\n",
    "- ```self.conv_layers```\n",
    "- ```self.fc_layers```\n",
    "- ```forward()```\n",
    "\n",
    "Leave the ```self.loss_criterion = None``` for now."
   ]
  },
  {
   "cell_type": "code",
   "execution_count": 83,
   "metadata": {
    "id": "jvVL-ap0BpFx"
   },
   "outputs": [
    {
     "name": "stdout",
     "output_type": "stream",
     "text": [
      "Testing your SimpleNet architecture:  \u001b[32m\"Correct\"\u001b[0m\n"
     ]
    }
   ],
   "source": [
    "print(\"Testing your SimpleNet architecture: \", verify(test_simple_net))"
   ]
  },
  {
   "cell_type": "code",
   "execution_count": 84,
   "metadata": {
    "id": "1OTCOQNFvgjS"
   },
   "outputs": [],
   "source": [
    "simple_model = SimpleNet()"
   ]
  },
  {
   "cell_type": "markdown",
   "metadata": {
    "id": "MkbHMcEYvgjS"
   },
   "source": [
    "### Loss function\n",
    "When defining your model architecture, also initialize the `loss_criterion` variable there. Remeber this is multi-class classification problem, and choose the [appropriate loss function](https://pytorch.org/docs/stable/nn.html#loss-functions) might be useful here.\n",
    "\n",
    "**TODO 4:** Assign a loss function to ```self.loss_criterion``` in ```simple_net.py```."
   ]
  },
  {
   "cell_type": "code",
   "execution_count": 85,
   "metadata": {
    "id": "JeBFNW0mvgjS"
   },
   "outputs": [
    {
     "name": "stdout",
     "output_type": "stream",
     "text": [
      "SimpleNet(\n",
      "  (conv_layers): Sequential(\n",
      "    (0): Conv2d(1, 10, kernel_size=(5, 5), stride=(1, 1))\n",
      "    (1): ReLU()\n",
      "    (2): MaxPool2d(kernel_size=3, stride=3, padding=0, dilation=1, ceil_mode=False)\n",
      "    (3): Conv2d(10, 20, kernel_size=(5, 5), stride=(1, 1))\n",
      "    (4): ReLU()\n",
      "    (5): MaxPool2d(kernel_size=3, stride=3, padding=0, dilation=1, ceil_mode=False)\n",
      "  )\n",
      "  (fc_layers): Sequential(\n",
      "    (0): Linear(in_features=500, out_features=100, bias=True)\n",
      "    (1): Linear(in_features=100, out_features=15, bias=True)\n",
      "  )\n",
      "  (loss_criterion): CrossEntropyLoss()\n",
      ")\n"
     ]
    }
   ],
   "source": [
    "print(simple_model)"
   ]
  },
  {
   "cell_type": "markdown",
   "metadata": {
    "id": "wwEAGDYrvgjU"
   },
   "source": [
    "### Optimizer\n",
    "**TODO 5:** **initialize the following cell with proper values for learning rate and weight decay** (you will need to come back and tune these values for better performance once the trainer section is done)"
   ]
  },
  {
   "cell_type": "code",
   "execution_count": 111,
   "metadata": {
    "id": "V2cwtK5PBpF7"
   },
   "outputs": [],
   "source": [
    "# TODO: add a decent initial setting and tune from there. The values are intentionally bad.\n",
    "optimizer_config = {\n",
    "  \"optimizer_type\": \"adam\",\n",
    "  \"lr\": 0.0005,\n",
    "  \"weight_decay\": 0\n",
    "}"
   ]
  },
  {
   "cell_type": "markdown",
   "metadata": {},
   "source": [
    "**TODO 6:** complete the ```get_optimizer()``` function in ```optimizer.py```. The helper function accepts three basic configurations as defined below. Any other configuration is optional. *SGD* optimizer type should be supported, anything else is optional."
   ]
  },
  {
   "cell_type": "code",
   "execution_count": 112,
   "metadata": {
    "id": "P0CrYZa4BpGE"
   },
   "outputs": [],
   "source": [
    "optimizer = get_optimizer(simple_model, optimizer_config)"
   ]
  },
  {
   "cell_type": "markdown",
   "metadata": {
    "id": "FffW3ZPhvgjU"
   },
   "source": [
    "### Part 1.3: Trainer"
   ]
  },
  {
   "cell_type": "markdown",
   "metadata": {},
   "source": [
    "**TODO 7:** Next we define the trainer for the model; to start, we will need to do the following in ```dl_utils.py```:\n",
    "- ```compute_loss()```: use the model's loss criterion and compute the corresponding loss between the model output and the ground-truth labels.\n",
    "- ```compute_accuracy()```: compute the classification accuracy given the prediction logits and the ground-truth labels."
   ]
  },
  {
   "cell_type": "code",
   "execution_count": 113,
   "metadata": {},
   "outputs": [
    {
     "name": "stdout",
     "output_type": "stream",
     "text": [
      "Testing your trainer (loss values):  \u001b[32m\"Correct\"\u001b[0m\n",
      "Testing your trainer (accuracy computation):  \u001b[32m\"Correct\"\u001b[0m\n"
     ]
    }
   ],
   "source": [
    "print(\"Testing your trainer (loss values): \", verify(test_compute_loss))\n",
    "print(\"Testing your trainer (accuracy computation): \", verify(test_compute_accuracy))"
   ]
  },
  {
   "cell_type": "markdown",
   "metadata": {
    "id": "fk060N9wvgjU"
   },
   "source": [
    "Then pass in the model, optimizer, transforms for both the training and testing datasets into the trainer, and proceed to the next cell to train it. If you have implemented everything correctly, you should be seeing a decreasing loss value.\n",
    "\n",
    "**Note** in this project, we will be using the test set as the validation set (i.e. using it to guide our decisions about models and hyperparameters while training. In actual practise, you would not interact with the test set until reporting the final results.\n",
    "\n",
    "**Note** that your CPU should be sufficient to handle the training process for all networks in this project, and the following training cells will take less than 5 minutes; you may also want to decrease the value for `num_epochs` and quickly experiment with your parameters. The default value of **30** is good enough to get you around the threshold for Part 1, and you are free to increase it a bit and adjust other parameters in this part."
   ]
  },
  {
   "cell_type": "code",
   "execution_count": 114,
   "metadata": {
    "id": "UiGOvPJfBpGO"
   },
   "outputs": [],
   "source": [
    "# re-init the model so that the weights are all random\n",
    "simple_model_base = SimpleNet()\n",
    "optimizer = get_optimizer(simple_model_base, optimizer_config)\n",
    "\n",
    "trainer = Trainer(data_dir=data_path, \n",
    "                  model = simple_model_base,\n",
    "                  optimizer = optimizer,\n",
    "                  model_dir = os.path.join(model_path, 'simple_net'),\n",
    "                  train_data_transforms = get_fundamental_transforms(inp_size),\n",
    "                  val_data_transforms = get_fundamental_transforms(inp_size),\n",
    "                  batch_size = 32,\n",
    "                  load_from_disk = False,\n",
    "                  cuda = is_cuda\n",
    "                 )"
   ]
  },
  {
   "cell_type": "code",
   "execution_count": 115,
   "metadata": {
    "id": "paNLyU5cBpGX",
    "scrolled": true
   },
   "outputs": [
    {
     "name": "stdout",
     "output_type": "stream",
     "text": [
      "Epoch:1 Train Loss:0.0831 Val Loss: 0.0806 Train Accuracy: 0.1206 Validation Accuracy: 0.1493\n",
      "Epoch:2 Train Loss:0.0754 Val Loss: 0.0764 Train Accuracy: 0.1987 Validation Accuracy: 0.2307\n",
      "Epoch:3 Train Loss:0.0680 Val Loss: 0.0698 Train Accuracy: 0.2824 Validation Accuracy: 0.2627\n",
      "Epoch:4 Train Loss:0.0647 Val Loss: 0.0701 Train Accuracy: 0.3139 Validation Accuracy: 0.2820\n",
      "Epoch:5 Train Loss:0.0628 Val Loss: 0.0644 Train Accuracy: 0.3367 Validation Accuracy: 0.3253\n",
      "Epoch:6 Train Loss:0.0596 Val Loss: 0.0644 Train Accuracy: 0.3698 Validation Accuracy: 0.3020\n",
      "Epoch:7 Train Loss:0.0581 Val Loss: 0.0624 Train Accuracy: 0.3816 Validation Accuracy: 0.3267\n",
      "Epoch:8 Train Loss:0.0561 Val Loss: 0.0589 Train Accuracy: 0.4074 Validation Accuracy: 0.3620\n",
      "Epoch:9 Train Loss:0.0542 Val Loss: 0.0569 Train Accuracy: 0.4322 Validation Accuracy: 0.3827\n",
      "Epoch:10 Train Loss:0.0527 Val Loss: 0.0613 Train Accuracy: 0.4452 Validation Accuracy: 0.3513\n",
      "Epoch:11 Train Loss:0.0525 Val Loss: 0.0572 Train Accuracy: 0.4509 Validation Accuracy: 0.3787\n",
      "Epoch:12 Train Loss:0.0502 Val Loss: 0.0550 Train Accuracy: 0.4724 Validation Accuracy: 0.4067\n",
      "Epoch:13 Train Loss:0.0493 Val Loss: 0.0567 Train Accuracy: 0.4851 Validation Accuracy: 0.3900\n",
      "Epoch:14 Train Loss:0.0490 Val Loss: 0.0564 Train Accuracy: 0.4831 Validation Accuracy: 0.4040\n",
      "Epoch:15 Train Loss:0.0466 Val Loss: 0.0534 Train Accuracy: 0.5049 Validation Accuracy: 0.4327\n",
      "Epoch:16 Train Loss:0.0458 Val Loss: 0.0518 Train Accuracy: 0.5099 Validation Accuracy: 0.4493\n",
      "Epoch:17 Train Loss:0.0449 Val Loss: 0.0519 Train Accuracy: 0.5263 Validation Accuracy: 0.4420\n",
      "Epoch:18 Train Loss:0.0441 Val Loss: 0.0528 Train Accuracy: 0.5296 Validation Accuracy: 0.4433\n",
      "Epoch:19 Train Loss:0.0439 Val Loss: 0.0550 Train Accuracy: 0.5350 Validation Accuracy: 0.4200\n",
      "Epoch:20 Train Loss:0.0431 Val Loss: 0.0503 Train Accuracy: 0.5457 Validation Accuracy: 0.4600\n",
      "Epoch:21 Train Loss:0.0419 Val Loss: 0.0550 Train Accuracy: 0.5625 Validation Accuracy: 0.4233\n",
      "Epoch:22 Train Loss:0.0423 Val Loss: 0.0508 Train Accuracy: 0.5605 Validation Accuracy: 0.4753\n",
      "Epoch:23 Train Loss:0.0407 Val Loss: 0.0519 Train Accuracy: 0.5739 Validation Accuracy: 0.4513\n",
      "Epoch:24 Train Loss:0.0398 Val Loss: 0.0510 Train Accuracy: 0.5755 Validation Accuracy: 0.4607\n",
      "Epoch:25 Train Loss:0.0411 Val Loss: 0.0491 Train Accuracy: 0.5789 Validation Accuracy: 0.4880\n",
      "Epoch:26 Train Loss:0.0384 Val Loss: 0.0494 Train Accuracy: 0.5933 Validation Accuracy: 0.4813\n",
      "Epoch:27 Train Loss:0.0378 Val Loss: 0.0502 Train Accuracy: 0.6003 Validation Accuracy: 0.4733\n",
      "Epoch:28 Train Loss:0.0376 Val Loss: 0.0499 Train Accuracy: 0.6003 Validation Accuracy: 0.4767\n",
      "Epoch:29 Train Loss:0.0379 Val Loss: 0.0473 Train Accuracy: 0.5966 Validation Accuracy: 0.5093\n",
      "Epoch:30 Train Loss:0.0371 Val Loss: 0.0497 Train Accuracy: 0.6184 Validation Accuracy: 0.4780\n",
      "CPU times: user 3min 43s, sys: 18.8 s, total: 4min 2s\n",
      "Wall time: 3min 36s\n"
     ]
    }
   ],
   "source": [
    "%%time\n",
    "trainer.run_training_loop(num_epochs=30)"
   ]
  },
  {
   "cell_type": "markdown",
   "metadata": {
    "id": "tDNaA9ekvgjV"
   },
   "source": [
    "After you have finished the training process, now plot out the loss and accuracy history. You can also check out the final accuracy for both training and testing data. Copy the accuracy plots and values onto the report, and answer the questions there. "
   ]
  },
  {
   "cell_type": "code",
   "execution_count": 116,
   "metadata": {
    "id": "z0b_WwJhBpGf",
    "scrolled": true
   },
   "outputs": [
    {
     "data": {
      "image/png": "[encoded data removed]",
      "text/plain": [
       "<Figure size 432x288 with 1 Axes>"
      ]
     },
     "metadata": {
      "needs_background": "light"
     },
     "output_type": "display_data"
    },
    {
     "data": {
      "image/png": "[encoded data removed]",
      "text/plain": [
       "<Figure size 432x288 with 1 Axes>"
      ]
     },
     "metadata": {
      "needs_background": "light"
     },
     "output_type": "display_data"
    }
   ],
   "source": [
    "trainer.plot_loss_history()\n",
    "trainer.plot_accuracy()"
   ]
  },
  {
   "cell_type": "code",
   "execution_count": 117,
   "metadata": {
    "id": "8epn0IBmBpGn",
    "scrolled": true
   },
   "outputs": [
    {
     "name": "stdout",
     "output_type": "stream",
     "text": [
      "Train Accuracy = 0.6184254606365159; Validation Accuracy = 0.478\n"
     ]
    }
   ],
   "source": [
    "train_accuracy = trainer.train_accuracy_history[-1]\n",
    "validation_accuracy = trainer.validation_accuracy_history[-1]\n",
    "print('Train Accuracy = {}; Validation Accuracy = {}'.format(train_accuracy, validation_accuracy))"
   ]
  },
  {
   "cell_type": "markdown",
   "metadata": {},
   "source": [
    "**TODO 8:** Obtain **45%** validation accuracy to receive full credit for Part 1. You can go back to TODO 5 to tune your parameters using the following tips:\n",
    "1. If the loss decreases very slowly, try increasing the value of the lr (learning rate).\n",
    "2. Initially keep the value of weight decay (L2-regularization) very low.\n",
    "3. Try to first adjust lr in multiples of 3 initially. When you are close to reasonable performance, do a more granular adjustment.\n",
    "4. If you want to increase the validation accuracy by a little bit, try increasing the weight_decay to prevent overfitting. Do not use tricks from Section 6 just yet."
   ]
  },
  {
   "cell_type": "markdown",
   "metadata": {},
   "source": [
    "### Save the model for your SimpleNet\n",
    "Once you are satisfied with the performance of your trained model, you need to save it so that you can upload it to Gradescope along with the other models.\n",
    "\n",
    "We'll save the model to the current directory. If you're running locally on your computer, this should be in the `proj5_code` folder, which is the desired location for uploading to gradescope.\n",
    "\n",
    "If you are running on Colab, make sure you download the trained `.pt` files that will be generated. This process is similar to that of Project 4.\n",
    "- Click on the folder icon in the left hand side menu\n",
    "- Select the 3 dots next to the `<out_name>.pt` file that is generated and click download\n",
    "- Store the file in the `proj5_code` folder."
   ]
  },
  {
   "cell_type": "code",
   "execution_count": 118,
   "metadata": {},
   "outputs": [],
   "source": [
    "save_trained_model_weights(simple_model_base, out_dir=\"./\")"
   ]
  },
  {
   "cell_type": "markdown",
   "metadata": {},
   "source": [
    "## Part 2: SimpleNet with additional modifications\n",
    "\n",
    "In Part 1 we implemented a basic CNN, but it doesn’t perform very well.  Let’s try a few tricks to see if we canimprove our model performance. You can start by copying your `SimpleNet` architecture from `simple_net.py` into `SimpleNetFinal` class in `simple_net_final.py`."
   ]
  },
  {
   "cell_type": "markdown",
   "metadata": {},
   "source": [
    "### Part 2.1: Problem 1 We don’t have enough training data. Let’s “jitter.”"
   ]
  },
  {
   "cell_type": "markdown",
   "metadata": {},
   "source": [
    "We are going to increase our amount of training data by left-right mirroring and color jittering the training images during the learning process.\n",
    "\n",
    "**TODO 9:** complete the `get_fundamental_augmentation_transforms()` function in `data_transforms.py`: first copy your existing fundamental transform implementation into this function, and then insert a couple of other transforms which help you do the above adjustment.                 \n",
    "\n",
    "Useful functions:`transforms.RandomHorizontalFlip`, `transforms.ColorJitter`"
   ]
  },
  {
   "cell_type": "code",
   "execution_count": null,
   "metadata": {},
   "outputs": [],
   "source": [
    "print(\"Testing your data transforms with data augmentation: \", verify(test_data_augmentation_transforms))"
   ]
  },
  {
   "cell_type": "markdown",
   "metadata": {},
   "source": [
    "### Part 2.2: Problem 2 The images aren’t zero-centered and variance-normalized."
   ]
  },
  {
   "cell_type": "markdown",
   "metadata": {},
   "source": [
    "We are going to \"zero-center\" and \"normalize\" the dataset so that each entry has zero mean and the overall standard deviation is 1. \n",
    "\n",
    "**TODO 10**:  fill in the `compute_mean_and_std()` in `stats_helper.py` to compute the **mean** and **standard deviation** of both training and validation data."
   ]
  },
  {
   "cell_type": "code",
   "execution_count": null,
   "metadata": {},
   "outputs": [],
   "source": [
    "print(\"Testing your mean and std computation: \", verify(test_mean_and_variance))\n",
    "dataset_mean, dataset_std = compute_mean_and_std(data_path)"
   ]
  },
  {
   "cell_type": "code",
   "execution_count": null,
   "metadata": {},
   "outputs": [],
   "source": [
    "print('Dataset mean = {}, standard deviation = {}'.format(dataset_mean, dataset_std))"
   ]
  },
  {
   "cell_type": "markdown",
   "metadata": {},
   "source": [
    "**TODO 11**: complete the function `get_all_transforms()` function in `data_transforms.py` to normalize the input using the passed in mean andstandard deviation: you need to copy your implementation of `get_fundamental_augmentation_transforms()` into this function first.                 "
   ]
  },
  {
   "cell_type": "code",
   "execution_count": null,
   "metadata": {
    "scrolled": true
   },
   "outputs": [],
   "source": [
    "print(\"Testing your normalized data transforms: \", verify(test_data_augmentation_with_normalization_transforms))"
   ]
  },
  {
   "cell_type": "code",
   "execution_count": null,
   "metadata": {},
   "outputs": [],
   "source": [
    "inp_size = (64,64)"
   ]
  },
  {
   "cell_type": "markdown",
   "metadata": {},
   "source": [
    "### Part 2.3-2.5: Problem 3 ~ 5: Modify the network."
   ]
  },
  {
   "cell_type": "markdown",
   "metadata": {},
   "source": [
    "**TODO 12:** modify the layers in the `SimpleNet` class in `simple_net.py`:\n",
    "1. Add the dropout layer\n",
    "2. Add one or two more blocks of “conv/pool/relu”.\n",
    "3. Add a batch normalization layer after each convolutional layer (except for the last)"
   ]
  },
  {
   "cell_type": "code",
   "execution_count": null,
   "metadata": {},
   "outputs": [],
   "source": [
    "print(\"Testing your SimpleNetFinal architecture: \", verify(test_simple_net_final))"
   ]
  },
  {
   "cell_type": "code",
   "execution_count": null,
   "metadata": {},
   "outputs": [],
   "source": [
    "simple_model_final = SimpleNetFinal()\n",
    "print(simple_model_final)"
   ]
  },
  {
   "cell_type": "markdown",
   "metadata": {},
   "source": [
    "Similar to the previous part, **initialize the following cell with proper values for learning rate and weight decay**."
   ]
  },
  {
   "cell_type": "code",
   "execution_count": null,
   "metadata": {},
   "outputs": [],
   "source": [
    "# TODO: add a decent initial setting and tune from there. The values are intentionally bad.\n",
    "optimizer_config = {\n",
    "  \"optimizer_type\": \"adam\",\n",
    "  \"lr\": 1e-3,\n",
    "  \"weight_decay\": 1e-1\n",
    "}"
   ]
  },
  {
   "cell_type": "markdown",
   "metadata": {},
   "source": [
    "The following cell will take longer than Part 1.3, as now we have more data (and more variability), and the model is slightly more complicated than before as well; however, it should finish within 10~15 minutes anyway, and the default num_epochs is also good enough as a starting point for you to pass this part."
   ]
  },
  {
   "cell_type": "code",
   "execution_count": null,
   "metadata": {},
   "outputs": [],
   "source": [
    "simple_model_final = SimpleNetFinal()\n",
    "optimizer = get_optimizer(simple_model_final, optimizer_config)\n",
    "\n",
    "trainer = Trainer(data_dir=data_path, \n",
    "                  model = simple_model_final,\n",
    "                  optimizer = optimizer,\n",
    "                  model_dir = os.path.join(model_path, 'simple_model_final'),\n",
    "                  train_data_transforms = get_all_transforms(inp_size, [dataset_mean], [dataset_std]),\n",
    "                  val_data_transforms = get_fundamental_normalization_transforms(inp_size, [dataset_mean], [dataset_std]),\n",
    "                  batch_size = 32,\n",
    "                  load_from_disk = False,\n",
    "                  cuda = is_cuda\n",
    "                 )"
   ]
  },
  {
   "cell_type": "code",
   "execution_count": null,
   "metadata": {},
   "outputs": [],
   "source": [
    "%%time\n",
    "trainer.run_training_loop(num_epochs=30)"
   ]
  },
  {
   "cell_type": "markdown",
   "metadata": {},
   "source": [
    "Similar to Part 1, now plot out the loss and accuracy history. Also copy the plots onto the report, and answer the questions accordingly."
   ]
  },
  {
   "cell_type": "code",
   "execution_count": null,
   "metadata": {},
   "outputs": [],
   "source": [
    "trainer.plot_loss_history()\n",
    "trainer.plot_accuracy()"
   ]
  },
  {
   "cell_type": "code",
   "execution_count": null,
   "metadata": {},
   "outputs": [],
   "source": [
    "train_accuracy = trainer.train_accuracy_history[-1]\n",
    "validation_accuracy = trainer.validation_accuracy_history[-1]\n",
    "print('Train Accuracy = {}; Validation Accuracy = {}'.format(train_accuracy, validation_accuracy))"
   ]
  },
  {
   "cell_type": "markdown",
   "metadata": {},
   "source": [
    "**TODO 13:** Obtain a **55%** validation accuracy to receive full credit for Part 2."
   ]
  },
  {
   "cell_type": "markdown",
   "metadata": {},
   "source": [
    "### Save the model for your SimpleNetFinal"
   ]
  },
  {
   "cell_type": "code",
   "execution_count": null,
   "metadata": {},
   "outputs": [],
   "source": [
    "save_trained_model_weights(simple_model_final, out_dir=\"./\")"
   ]
  },
  {
   "cell_type": "markdown",
   "metadata": {},
   "source": [
    "### Part 2.6: Analysis using confusion matrix\n",
    "A confusion matrix is a helpful tool for visualizing the performance of classification algorithms. Each row of the matrix represents the instances in a predicted class, while each column represents the instances in an actual class. The confusion matrix counts the number of instances of a given (target, prediction) pair. We are able to use this to understand the classification behaviour.\n",
    "\n",
    "A confusion matrix can also be normalized by dividing each row by the total number of instances of the target class. This is helpful for comparing between large and small datasets, as well as when there is significant class imbalance."
   ]
  },
  {
   "cell_type": "markdown",
   "metadata": {},
   "source": [
    "**TODO 14:** Do the following to visualize the confusion matrix:\n",
    "\n",
    "1. Implement the code to extract the predictions and targets from a model and a dataset\n",
    "2. Implement the code to generate the confusion matrix, and its normalized form\n",
    "3. Plot the confusion matrix and try to understand how your model is performing, and where it falls short. We'll use this later on for the report."
   ]
  },
  {
   "cell_type": "code",
   "execution_count": null,
   "metadata": {},
   "outputs": [],
   "source": [
    "print(verify(test_generate_confusion_matrix))\n",
    "print(verify(test_generate_confusion_matrix_normalized))"
   ]
  },
  {
   "cell_type": "code",
   "execution_count": null,
   "metadata": {},
   "outputs": [],
   "source": [
    "%%time\n",
    "targets, predictions, class_labels = generate_confusion_data(trainer.model,\n",
    "                                                             trainer.val_dataset,\n",
    "                                                             use_cuda=is_cuda)"
   ]
  },
  {
   "cell_type": "code",
   "execution_count": null,
   "metadata": {},
   "outputs": [],
   "source": [
    "confusion_matrix = generate_confusion_matrix(targets, predictions, len(class_labels))"
   ]
  },
  {
   "cell_type": "code",
   "execution_count": null,
   "metadata": {},
   "outputs": [],
   "source": [
    "plot_confusion_matrix(confusion_matrix, class_labels)"
   ]
  },
  {
   "cell_type": "markdown",
   "metadata": {
    "id": "amh1wxlJBpHj"
   },
   "source": [
    "## Part 3: ResNet\n",
    "You can see that after the above adjustment, our model performance increases in terms of testing accuracy. Although the training accuracy drops, now it's closer to the testing values and that's more natural in terms of performance. But we are not satisfied with the final performance yet. Our model, in the end, is still a 2-layer SimpleNet and it might be capable of capturing some features, but could be improved a lot if we go **deeper**. In this part we are going to see the power of a famous model: ResNet18."
   ]
  },
  {
   "cell_type": "code",
   "execution_count": null,
   "metadata": {
    "id": "ttbhBZ7CXUng"
   },
   "outputs": [],
   "source": [
    "inp_size = (224, 224)"
   ]
  },
  {
   "cell_type": "markdown",
   "metadata": {
    "id": "HGzfNfMivgjb"
   },
   "source": [
    "### Part 3.1 & 3.2: Fine-tuning the ResNet\n",
    "Now let's define a ResNet which can be fit onto our dataset. PyTorch has provided us with pre-trained models like ResNet18, so what you want to do is to load the model first, and then adjust some of the layers such that it fits with our own dataset, instead of outputing scores to 1000 classes from the original ResNet18 model.\n",
    "\n",
    "\n",
    "**TODO 15:** Switch to `my_resnet.py`, and copy the network architecture and weights of all but the last fc layers from the pretrained network.\n",
    "\n",
    "After you have defined the correct architecture of the model, make some tweaks to the existing layers: **freeze** the **convolutional** layers and first 2 **linear** layers so we don't update the weights of them; more details can be found in the instruction webpage.\n",
    "\n",
    "Note that you are allowed to add more layers/unfreeze more layers if you see fit."
   ]
  },
  {
   "cell_type": "code",
   "execution_count": null,
   "metadata": {
    "id": "Ruw-dg8avgjb"
   },
   "outputs": [],
   "source": [
    "print(\"Testing your ResNet architecture: \", verify(test_my_resnet))"
   ]
  },
  {
   "cell_type": "code",
   "execution_count": null,
   "metadata": {
    "id": "CBoLgRrlBpHl"
   },
   "outputs": [],
   "source": [
    "my_resnet = MyResNet18()\n",
    "print(my_resnet)"
   ]
  },
  {
   "cell_type": "code",
   "execution_count": null,
   "metadata": {
    "id": "J6AYkHAgBpHw"
   },
   "outputs": [],
   "source": [
    "# TODO: add a decent initial setting and tune from there. The values are intentionally bad.\n",
    "optimizer_config = {\n",
    "  \"optimizer_type\": \"sgd\",\n",
    "  \"lr\": 1e-10,\n",
    "  \"weight_decay\": 1e-1\n",
    "}"
   ]
  },
  {
   "cell_type": "code",
   "execution_count": null,
   "metadata": {
    "id": "DtCIaTMmBpIK"
   },
   "outputs": [],
   "source": [
    "my_resnet = MyResNet18()\n",
    "optimizer = get_optimizer(my_resnet, optimizer_config)\n",
    "\n",
    "trainer = Trainer(data_dir=data_path, \n",
    "                  model = my_resnet,\n",
    "                  optimizer = optimizer,\n",
    "                  model_dir = os.path.join(model_path, 'resnet18'),\n",
    "                  train_data_transforms = get_all_transforms(inp_size, [dataset_mean], [dataset_std]),\n",
    "                  val_data_transforms = get_fundamental_normalization_transforms(inp_size, [dataset_mean], [dataset_std]),\n",
    "                  batch_size = 32,\n",
    "                  load_from_disk = False,\n",
    "                  cuda = is_cuda\n",
    "                 )"
   ]
  },
  {
   "cell_type": "markdown",
   "metadata": {
    "id": "oYMrCqMgvgjd"
   },
   "source": [
    "The following training cell will take roughly 20 minutes or slightly more using CPU (but possibly under 5 minute using GPU depending on the batch size; the TAs got it within 3 minutes on a GTX1060)."
   ]
  },
  {
   "cell_type": "code",
   "execution_count": null,
   "metadata": {
    "id": "CAcncwLPBpIQ"
   },
   "outputs": [],
   "source": [
    "%%time\n",
    "trainer.run_training_loop(num_epochs=5)"
   ]
  },
  {
   "cell_type": "markdown",
   "metadata": {
    "id": "biGF45_bvgje"
   },
   "source": [
    "Like both previous sections, you are required to pass a threshold of **85%** for this part. Copy the plots and values onto the report and answer questions accordingly."
   ]
  },
  {
   "cell_type": "code",
   "execution_count": null,
   "metadata": {
    "id": "Cimj95G_BpIU",
    "scrolled": true
   },
   "outputs": [],
   "source": [
    "trainer.plot_loss_history()\n",
    "trainer.plot_accuracy()"
   ]
  },
  {
   "cell_type": "code",
   "execution_count": null,
   "metadata": {
    "id": "qMI3CdEuBpIb"
   },
   "outputs": [],
   "source": [
    "train_accuracy = trainer.train_accuracy_history[-1]\n",
    "validation_accuracy = trainer.validation_accuracy_history[-1]\n",
    "print('Train Accuracy = {}; Validation Accuracy = {}'.format(train_accuracy, validation_accuracy))"
   ]
  },
  {
   "cell_type": "markdown",
   "metadata": {},
   "source": [
    "**TODO 16**: Obtain a **85%** validation accuracy to receive full credits for Part 3."
   ]
  },
  {
   "cell_type": "markdown",
   "metadata": {},
   "source": [
    "### Save Trained MyResnet18 model"
   ]
  },
  {
   "cell_type": "code",
   "execution_count": null,
   "metadata": {},
   "outputs": [],
   "source": [
    "save_trained_model_weights(my_resnet, out_dir=\"./\")"
   ]
  },
  {
   "cell_type": "markdown",
   "metadata": {},
   "source": [
    "### Part 2.3 Visualize and Analyze Confusion Matrix"
   ]
  },
  {
   "cell_type": "markdown",
   "metadata": {},
   "source": [
    "**TODO 17:** Visualize and analyze the confusion matrix.\n",
    "\n",
    "You'll need to find an example of an image that is misclassified for the report. Use the confusion matrix and the `get_pred_images_for_target` function to help your analysis"
   ]
  },
  {
   "cell_type": "code",
   "execution_count": null,
   "metadata": {},
   "outputs": [],
   "source": [
    "generate_and_plot_confusion_matrix(my_resnet, trainer.val_dataset, use_cuda=is_cuda)"
   ]
  },
  {
   "cell_type": "code",
   "execution_count": null,
   "metadata": {},
   "outputs": [],
   "source": [
    "#########################\n",
    "# Use this cell to visualize your images depending on the confusion matrix visualization\n",
    "#########################"
   ]
  }
 ],
 "metadata": {
  "accelerator": "GPU",
  "colab": {
   "collapsed_sections": [],
   "name": "proj5.ipynb",
   "provenance": [],
   "toc_visible": true
  },
  "kernelspec": {
   "display_name": "Python 3",
   "language": "python",
   "name": "python3"
  },
  "language_info": {
   "codemirror_mode": {
    "name": "ipython",
    "version": 3
   },
   "file_extension": ".py",
   "mimetype": "text/x-python",
   "name": "python",
   "nbconvert_exporter": "python",
   "pygments_lexer": "ipython3",
   "version": "3.8.8"
  }
 },
 "nbformat": 4,
 "nbformat_minor": 1
}
